{
  "nbformat": 4,
  "nbformat_minor": 0,
  "metadata": {
    "colab": {
      "provenance": [],
      "authorship_tag": "ABX9TyPT7ka4U0K8v/vnUT85gstB",
      "include_colab_link": true
    },
    "kernelspec": {
      "name": "python3",
      "display_name": "Python 3"
    },
    "language_info": {
      "name": "python"
    }
  },
  "cells": [
    {
      "cell_type": "markdown",
      "metadata": {
        "id": "view-in-github",
        "colab_type": "text"
      },
      "source": [
        "<a href=\"https://colab.research.google.com/github/Professional-SS/Data-Visualization-of-Ice-Cream-Ratings/blob/main/wiki_scrape.ipynb\" target=\"_parent\"><img src=\"https://colab.research.google.com/assets/colab-badge.svg\" alt=\"Open In Colab\"/></a>"
      ]
    },
    {
      "cell_type": "code",
      "execution_count": null,
      "metadata": {
        "colab": {
          "base_uri": "https://localhost:8080/"
        },
        "id": "mTMb90HkTfJR",
        "outputId": "f977c602-0a57-4d1e-d144-7e2e1d85074f"
      },
      "outputs": [
        {
          "output_type": "stream",
          "name": "stdout",
          "text": [
            "   Rank                  Name                    Industry  \\\n",
            "0     1               Walmart                      Retail   \n",
            "1     2                Amazon  Retail and cloud computing   \n",
            "2     3                 Apple        Electronics industry   \n",
            "3     4    UnitedHealth Group                  Healthcare   \n",
            "4     5    Berkshire Hathaway                Conglomerate   \n",
            "..  ...                   ...                         ...   \n",
            "95   96                  TIAA                  Financials   \n",
            "96   97                   CHS     Agriculture cooperative   \n",
            "97   98  Bristol-Myers Squibb     Pharmaceutical industry   \n",
            "98   99  Dow Chemical Company           Chemical industry   \n",
            "99  100              Best Buy                      Retail   \n",
            "\n",
            "   Revenue (USD millions) Revenue growth  Employees  \\\n",
            "0                 648,125           6.0%  2,100,000   \n",
            "1                 574,785          11.9%  1,525,000   \n",
            "2                 383,482          -2.8%    161,000   \n",
            "3                 371,622          14.6%    440,000   \n",
            "4                 364,482          20.7%    396,500   \n",
            "..                    ...            ...        ...   \n",
            "95                 45,735          11.8%     16,023   \n",
            "96                 45,590          -4.6%     10,609   \n",
            "97                 45,006          -2.5%     34,100   \n",
            "98                 44,622         -21.6%     35,900   \n",
            "99                 43,452          -6.1%     85,000   \n",
            "\n",
            "                      Headquarters  \n",
            "0            Bentonville, Arkansas  \n",
            "1              Seattle, Washington  \n",
            "2            Cupertino, California  \n",
            "3            Minnetonka, Minnesota  \n",
            "4                  Omaha, Nebraska  \n",
            "..                             ...  \n",
            "95         New York City, New York  \n",
            "96  Inver Grove Heights, Minnesota  \n",
            "97         New York City, New York  \n",
            "98               Midland, Michigan  \n",
            "99            Richfield, Minnesota  \n",
            "\n",
            "[100 rows x 7 columns]\n"
          ]
        }
      ],
      "source": [
        "# wiki scrapping\n",
        "from bs4 import BeautifulSoup\n",
        "import requests\n",
        "import pandas as pd\n",
        "from google.colab import files\n",
        "\n",
        "\n",
        "url = 'https://en.wikipedia.org/wiki/List_of_largest_companies_in_the_United_States_by_revenue'\n",
        "\n",
        "page = requests.get(url)\n",
        "\n",
        "soup = BeautifulSoup(page.text, 'html')\n",
        "\n",
        "table = soup.find('table',class_ = 'wikitable sortable')\n",
        "\n",
        "world_titles = table.find_all('th')\n",
        "world_table_titles = [title.text.strip() for title in world_titles]\n",
        "\n",
        "df = pd.DataFrame(columns = world_table_titles)\n",
        "\n",
        "column_data = table.find_all('tr')\n",
        "\n",
        "for row in column_data[1:]:\n",
        "    row_data = row.find_all('td')\n",
        "    individual_row_data = [data.text.strip() for data in row_data]\n",
        "\n",
        "    length = len(df)\n",
        "    df.loc[length] = individual_row_data\n",
        "\n",
        "print(df)\n",
        "df.to_csv('Companies.csv', index=False)\n"
      ]
    }
  ]
}